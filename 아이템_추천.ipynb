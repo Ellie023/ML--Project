{
  "nbformat": 4,
  "nbformat_minor": 0,
  "metadata": {
    "colab": {
      "provenance": []
    },
    "kernelspec": {
      "name": "python3",
      "display_name": "Python 3"
    },
    "language_info": {
      "name": "python"
    }
  },
  "cells": [
    {
      "cell_type": "code",
      "source": [
        "from google.colab import drive\n",
        "drive.mount('/content/drive')"
      ],
      "metadata": {
        "colab": {
          "base_uri": "https://localhost:8080/"
        },
        "id": "9EPog1GQo4Yr",
        "outputId": "acd5f875-337b-4304-ac4f-b374e9e003a0"
      },
      "execution_count": 1,
      "outputs": [
        {
          "output_type": "stream",
          "name": "stdout",
          "text": [
            "Mounted at /content/drive\n"
          ]
        }
      ]
    },
    {
      "cell_type": "code",
      "source": [
        "import pandas as pd\n",
        "import numpy as np\n",
        "from sklearn.metrics.pairwise import cosine_similarity\n",
        "from sklearn.model_selection import train_test_split\n",
        "from tqdm import tqdm\n",
        "\n",
        "# === STEP 1: 데이터 준비 ===\n",
        "# 데이터 불러오기\n",
        "poster = pd.read_csv('/content/drive/MyDrive/기학팀플/포스터/poster_with_cluster.csv')\n",
        "data = pd.read_csv('/content/drive/MyDrive/기학팀플/movie.csv')\n",
        "\n",
        "# poster와 data를 movie_title을 기준으로 병합\n",
        "data = data.merge(poster[['movie_title', 'cluster']], on='movie_title', how='left')\n",
        "\n",
        "# Train-Test Split\n",
        "train, test = train_test_split(data, test_size=0.2, random_state=42)\n",
        "\n",
        "# User-Item Matrix 생성\n",
        "user_movie_matrix = train.pivot_table(index='critic_name', columns='movie_id', values='review_score_cleaned').fillna(0)\n",
        "\n",
        "# 아이템 간 코사인 유사도 계산\n",
        "item_movie_matrix = train.pivot_table(index='movie_id', columns='critic_name', values='review_score_cleaned').fillna(0)\n",
        "item_similarity = cosine_similarity(item_movie_matrix)\n",
        "item_similarity_df = pd.DataFrame(item_similarity, index=item_movie_matrix.index, columns=item_movie_matrix.index)\n",
        "\n",
        "# === STEP 2: 아이템 기반 협업 필터링 추천 함수 ===\n",
        "def item_based_recommend(user_name, user_movie_matrix, item_similarity_df, n_recommendations=5):\n",
        "    if user_name not in user_movie_matrix.index:\n",
        "        raise ValueError(f\"User '{user_name}' not found in user_movie_matrix.\")\n",
        "\n",
        "    # 사용자가 평가한 아이템과 평점 추출\n",
        "    user_ratings = user_movie_matrix.loc[user_name]\n",
        "\n",
        "    # 아이템 기반 협업 필터링 점수 계산\n",
        "    item_based_scores = item_similarity_df.dot(user_ratings).div(item_similarity_df.sum(axis=1))\n",
        "\n",
        "    # 점수 정규화\n",
        "    item_based_scores = (item_based_scores - item_based_scores.min()) / (item_based_scores.max() - item_based_scores.min())\n",
        "\n",
        "    # 상위 점수 강조\n",
        "    item_based_scores = item_based_scores**2\n",
        "\n",
        "    # 이미 본 영화 제외\n",
        "    seen_movies = user_ratings[user_ratings > 0].index\n",
        "    item_based_scores = item_based_scores[~item_based_scores.index.isin(seen_movies)]\n",
        "\n",
        "    # 상위 추천 영화 반환\n",
        "    recommendations = item_based_scores.reset_index()\n",
        "    recommendations.columns = ['movie_id', 'item_score']\n",
        "    recommendations = recommendations.sort_values(by='item_score', ascending=False).head(n_recommendations)\n",
        "    return recommendations\n",
        "\n",
        "# === STEP 3: 사용자 추천 테스트 ===\n",
        "user_name = \"Ben McEachen\"  # 추천을 받을 사용자 이름\n",
        "n_recommendations = 5  # 추천할 영화 수\n",
        "recommendations = item_based_recommend(user_name, user_movie_matrix, item_similarity_df, n_recommendations=n_recommendations)\n",
        "\n",
        "# 영화 제목 추가\n",
        "recommendations = recommendations.merge(data[['movie_id', 'movie_title']], on='movie_id', how='left')\n",
        "\n",
        "# 중복 제거 (movie_title 기준)\n",
        "recommendations = recommendations.drop_duplicates(subset=['movie_title'])\n",
        "\n",
        "# 상위 N개 추천\n",
        "recommendations = recommendations.sort_values(by='item_score', ascending=False).head(n_recommendations)\n",
        "\n",
        "# 결과 출력\n",
        "print(f\"\\nTop {n_recommendations} Item-Based Recommendations for {user_name}:\")\n",
        "print(recommendations[['movie_title', 'item_score']])\n"
      ],
      "metadata": {
        "colab": {
          "base_uri": "https://localhost:8080/"
        },
        "id": "VTeI0yPkDGr7",
        "outputId": "21b25bef-19bc-4918-ac84-f04392573a26"
      },
      "execution_count": 9,
      "outputs": [
        {
          "output_type": "stream",
          "name": "stdout",
          "text": [
            "\n",
            "Top 5 Item-Based Recommendations for Ben McEachen:\n",
            "                                 movie_title  item_score\n",
            "0                          The Grace of Jake    0.604938\n",
            "1                        Grown Up Movie Star    0.092281\n",
            "3                           Accidents Happen    0.070635\n",
            "10    San suk si gin (The Shinjuku Incident)    0.043407\n",
            "12  A Complete History of My Sexual Failures    0.043178\n"
          ]
        }
      ]
    }
  ]
}