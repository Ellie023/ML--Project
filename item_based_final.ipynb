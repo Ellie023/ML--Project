{
  "nbformat": 4,
  "nbformat_minor": 0,
  "metadata": {
    "colab": {
      "provenance": [],
      "machine_shape": "hm"
    },
    "kernelspec": {
      "name": "python3",
      "display_name": "Python 3"
    },
    "language_info": {
      "name": "python"
    }
  },
  "cells": [
    {
      "cell_type": "markdown",
      "source": [
        "유사 아이템 수 조정"
      ],
      "metadata": {
        "id": "j_hOBfyCPVJG"
      }
    },
    {
      "cell_type": "code",
      "source": [
        "import pandas as pd\n",
        "import numpy as np\n",
        "from scipy.sparse import csr_matrix\n",
        "from sklearn.metrics.pairwise import cosine_similarity\n",
        "from sklearn.metrics import mean_squared_error, mean_absolute_error\n",
        "\n",
        "from google.colab import drive\n",
        "\n",
        "# Google Drive 마운트\n",
        "drive.mount('/content/drive', force_remount=True)\n",
        "\n",
        "# 데이터 파일 경로 지정\n",
        "file_path = '/content/drive/MyDrive/movie.csv'\n",
        "df = pd.read_csv(file_path)\n",
        "\n",
        "# 사용자-아이템 매트릭스 생성\n",
        "user_item_matrix = df.pivot_table(index='critic_name', columns='movie_id', values='review_score_cleaned').fillna(0)\n",
        "user_item_matrix = user_item_matrix.astype(np.float32)  # 데이터 타입 최적화\n",
        "user_item_sparse = csr_matrix(user_item_matrix)  # 희소 행렬 변환\n",
        "\n",
        "# 아이템 간 유사도 계산\n",
        "item_similarity = cosine_similarity(user_item_sparse.T)\n",
        "\n",
        "# 평점 예측 함수\n",
        "def predict_ratings(user_id, user_item_matrix, item_similarity, top_k_items=1500, similarity_threshold=0.2):\n",
        "    user_ratings = user_item_matrix.loc[user_id]\n",
        "    predicted_ratings = []\n",
        "\n",
        "    for item_id in range(user_item_matrix.shape[1]):\n",
        "        item_similarities = item_similarity[item_id]\n",
        "\n",
        "        # Threshold 필터링\n",
        "        item_similarities[item_similarities < similarity_threshold] = 0\n",
        "\n",
        "        # 상위 K개의 유사 아이템 선택\n",
        "        top_k_indices = np.argsort(item_similarities)[-top_k_items:]\n",
        "        top_k_similarities = item_similarities[top_k_indices]\n",
        "        top_k_ratings = user_ratings.iloc[top_k_indices]\n",
        "\n",
        "        # 가중 평균 계산 (제곱 가중치 적용)\n",
        "        weighted_sum = np.dot(top_k_similarities**2, top_k_ratings)\n",
        "        norm_factor = np.sum(top_k_similarities**2)\n",
        "        predicted_rating = weighted_sum / norm_factor if norm_factor > 0 else 0\n",
        "\n",
        "        # 아이템 평균값 보정 추가\n",
        "        item_mean = user_item_matrix.iloc[:, item_id].mean()\n",
        "        predicted_rating += item_mean * 0.1\n",
        "\n",
        "        predicted_ratings.append(predicted_rating)\n",
        "    return pd.Series(predicted_ratings, index=user_item_matrix.columns)\n",
        "\n",
        "\n",
        "# 추천 생성 함수\n",
        "def recommend_items(user_id, user_item_matrix, item_similarity, top_k_items=1500, top_n=20, similarity_threshold=0.2, rating_threshold=0.5):\n",
        "    predicted_ratings = predict_ratings(user_id, user_item_matrix, item_similarity, top_k_items, similarity_threshold)\n",
        "\n",
        "    # Threshold 필터링: 예측 평점이 rating_threshold 이상인 항목만 고려\n",
        "    predicted_ratings = predicted_ratings[predicted_ratings >= rating_threshold]\n",
        "\n",
        "    # 사용자가 이미 평가한 항목 제외\n",
        "    watched_items = user_item_matrix.loc[user_id][user_item_matrix.loc[user_id] > 0].index\n",
        "    recommendable_items = predicted_ratings[~predicted_ratings.index.isin(watched_items)]\n",
        "\n",
        "    # 상위 N개 추천\n",
        "    return recommendable_items.sort_values(ascending=False).head(top_n)\n",
        "\n",
        "\n",
        "\n",
        "# 평가지표 계산 함수\n",
        "def calculate_metrics(user_id, user_item_matrix, predicted_ratings, top_n=20):\n",
        "    actual_ratings = user_item_matrix.loc[user_id]\n",
        "    watched_items = actual_ratings[actual_ratings > 0].index\n",
        "    predicted_top_n = predicted_ratings.sort_values(ascending=False).head(top_n)\n",
        "\n",
        "    # RMSE와 MAE 계산\n",
        "    actual_values = actual_ratings.loc[watched_items]\n",
        "    predicted_values = predicted_ratings.loc[watched_items]\n",
        "    rmse = np.sqrt(mean_squared_error(actual_values, predicted_values))\n",
        "    mae = mean_absolute_error(actual_values, predicted_values)\n",
        "\n",
        "    # Precision, Recall, F1 Score 계산\n",
        "    relevant_items = set(watched_items)\n",
        "    recommended_items = set(predicted_top_n.index)\n",
        "    hits = len(relevant_items & recommended_items)\n",
        "    precision = hits / len(recommended_items) if len(recommended_items) > 0 else 0\n",
        "    recall = hits / len(relevant_items) if len(relevant_items) > 0 else 0\n",
        "    f1_score = 2 * precision * recall / (precision + recall) if (precision + recall) > 0 else 0\n",
        "\n",
        "    # Return the calculated metrics\n",
        "    return rmse, mae, precision, recall, f1_score # This line was added to fix the error\n"
      ],
      "metadata": {
        "colab": {
          "base_uri": "https://localhost:8080/"
        },
        "id": "q7OiBMJeKp-b",
        "outputId": "38bb66c5-835e-4088-e3d5-8cf25b5d073f"
      },
      "execution_count": 4,
      "outputs": [
        {
          "output_type": "stream",
          "name": "stdout",
          "text": [
            "Mounted at /content/drive\n"
          ]
        }
      ]
    },
    {
      "cell_type": "code",
      "source": [
        "# critic_name에 해당하는 user_id 찾기\n",
        "user_id = 'Ben McEachen'  # 원하는 사용자 이름\n",
        "if user_id not in user_item_matrix.index:\n",
        "    raise ValueError(f\"User '{user_id}' not found in user_item_matrix.\")\n",
        "\n",
        "print(f\"'{user_id}'의 데이터가 발견되었습니다. 추천 영화를 생성합니다.\")\n",
        "\n",
        "# 추천 영화 생성\n",
        "recommended_movies = recommend_items(\n",
        "    user_id,\n",
        "    user_item_matrix,\n",
        "    item_similarity,\n",
        "    top_k_items=1500,\n",
        "    top_n=10,  # 추천할 영화 수\n",
        "    similarity_threshold=0.01,\n",
        "    rating_threshold=0.1\n",
        ")\n",
        "\n",
        "# 추천 결과 출력\n",
        "if recommended_movies.empty:\n",
        "    print(f\"'{user_id}'에게 추천할 영화가 없습니다.\")\n",
        "else:\n",
        "    print(f\"'{user_id}'에게 추천된 영화 목록:\")\n",
        "    print(recommended_movies)\n"
      ],
      "metadata": {
        "colab": {
          "base_uri": "https://localhost:8080/"
        },
        "id": "q55tpI4Tu1-B",
        "outputId": "3f583248-bb20-435d-9aa3-320b76a36565"
      },
      "execution_count": 8,
      "outputs": [
        {
          "output_type": "stream",
          "name": "stdout",
          "text": [
            "'Ben McEachen'의 데이터가 발견되었습니다. 추천 영화를 생성합니다.\n",
            "'Ben McEachen'에게 추천할 영화가 없습니다.\n"
          ]
        }
      ]
    },
    {
      "cell_type": "code",
      "source": [
        "# 추천 생성\n",
        "recommendations = recommend_items(\n",
        "    user_id,\n",
        "    user_item_matrix,\n",
        "    item_similarity,\n",
        "    top_k_items=1500,  # 상위 유사 항목 개수 유지\n",
        "    top_n=450,  # 추천 항목 수 약간 증가\n",
        "    similarity_threshold=0.15,  # 유사도 필터링 강화\n",
        "    rating_threshold=0.3  # 평점 임계값 완화\n",
        ")\n",
        "\n",
        "# 평가지표 계산\n",
        "predicted_ratings = predict_ratings(user_id, user_item_matrix, item_similarity, top_k_items=1500, similarity_threshold=0.15)\n",
        "rmse, mae, precision, recall, f1_score = calculate_metrics(user_id, user_item_matrix, predicted_ratings, top_n=450)\n",
        "\n",
        "# 결과 출력\n",
        "print(\"추천 항목:\")\n",
        "print(recommendations)\n",
        "print(f\"RMSE: {rmse:.4f}\")\n",
        "print(f\"MAE: {mae:.4f}\")\n",
        "print(f\"Precision: {precision:.4f}\")\n",
        "print(f\"Recall: {recall:.4f}\")\n",
        "print(f\"F1 Score: {f1_score:.4f}\")\n"
      ],
      "metadata": {
        "colab": {
          "base_uri": "https://localhost:8080/"
        },
        "id": "_tBJL_ADLJKq",
        "outputId": "946d6e50-4f3b-48aa-df1a-99a5f94baf23"
      },
      "execution_count": null,
      "outputs": [
        {
          "output_type": "stream",
          "name": "stdout",
          "text": [
            "추천 항목:\n",
            "Series([], dtype: float64)\n",
            "RMSE: 0.4421\n",
            "MAE: 0.4066\n",
            "Precision: 0.6178\n",
            "Recall: 0.4303\n",
            "F1 Score: 0.5073\n"
          ]
        }
      ]
    },
    {
      "cell_type": "code",
      "source": [],
      "metadata": {
        "id": "2bUW7ZDlL_rb"
      },
      "execution_count": null,
      "outputs": []
    }
  ]
}